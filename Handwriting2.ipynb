{
 "cells": [
  {
   "cell_type": "code",
   "execution_count": 1,
   "id": "81de33af-963b-40c8-b88c-d68b0c2ea559",
   "metadata": {},
   "outputs": [],
   "source": [
    "import pandas as pd"
   ]
  },
  {
   "cell_type": "code",
   "execution_count": 2,
   "id": "2ca86ce8-b637-486a-96dd-8aee0f8f6ef5",
   "metadata": {},
   "outputs": [
    {
     "data": {
      "text/html": [
       "<div>\n",
       "<style scoped>\n",
       "    .dataframe tbody tr th:only-of-type {\n",
       "        vertical-align: middle;\n",
       "    }\n",
       "\n",
       "    .dataframe tbody tr th {\n",
       "        vertical-align: top;\n",
       "    }\n",
       "\n",
       "    .dataframe thead th {\n",
       "        text-align: right;\n",
       "    }\n",
       "</style>\n",
       "<table border=\"1\" class=\"dataframe\">\n",
       "  <thead>\n",
       "    <tr style=\"text-align: right;\">\n",
       "      <th></th>\n",
       "      <th>0</th>\n",
       "      <th>0.1</th>\n",
       "      <th>0.2</th>\n",
       "      <th>0.3</th>\n",
       "      <th>0.4</th>\n",
       "      <th>0.5</th>\n",
       "      <th>0.6</th>\n",
       "      <th>0.7</th>\n",
       "      <th>0.8</th>\n",
       "      <th>0.9</th>\n",
       "      <th>...</th>\n",
       "      <th>0.639</th>\n",
       "      <th>0.640</th>\n",
       "      <th>0.641</th>\n",
       "      <th>0.642</th>\n",
       "      <th>0.643</th>\n",
       "      <th>0.644</th>\n",
       "      <th>0.645</th>\n",
       "      <th>0.646</th>\n",
       "      <th>0.647</th>\n",
       "      <th>0.648</th>\n",
       "    </tr>\n",
       "  </thead>\n",
       "  <tbody>\n",
       "    <tr>\n",
       "      <th>0</th>\n",
       "      <td>0</td>\n",
       "      <td>0</td>\n",
       "      <td>0</td>\n",
       "      <td>0</td>\n",
       "      <td>0</td>\n",
       "      <td>0</td>\n",
       "      <td>0</td>\n",
       "      <td>0</td>\n",
       "      <td>0</td>\n",
       "      <td>0</td>\n",
       "      <td>...</td>\n",
       "      <td>0</td>\n",
       "      <td>0</td>\n",
       "      <td>0</td>\n",
       "      <td>0</td>\n",
       "      <td>0</td>\n",
       "      <td>0</td>\n",
       "      <td>0</td>\n",
       "      <td>0</td>\n",
       "      <td>0</td>\n",
       "      <td>0</td>\n",
       "    </tr>\n",
       "    <tr>\n",
       "      <th>1</th>\n",
       "      <td>0</td>\n",
       "      <td>0</td>\n",
       "      <td>0</td>\n",
       "      <td>0</td>\n",
       "      <td>0</td>\n",
       "      <td>0</td>\n",
       "      <td>0</td>\n",
       "      <td>0</td>\n",
       "      <td>0</td>\n",
       "      <td>0</td>\n",
       "      <td>...</td>\n",
       "      <td>0</td>\n",
       "      <td>0</td>\n",
       "      <td>0</td>\n",
       "      <td>0</td>\n",
       "      <td>0</td>\n",
       "      <td>0</td>\n",
       "      <td>0</td>\n",
       "      <td>0</td>\n",
       "      <td>0</td>\n",
       "      <td>0</td>\n",
       "    </tr>\n",
       "    <tr>\n",
       "      <th>2</th>\n",
       "      <td>0</td>\n",
       "      <td>0</td>\n",
       "      <td>0</td>\n",
       "      <td>0</td>\n",
       "      <td>0</td>\n",
       "      <td>0</td>\n",
       "      <td>0</td>\n",
       "      <td>0</td>\n",
       "      <td>0</td>\n",
       "      <td>0</td>\n",
       "      <td>...</td>\n",
       "      <td>0</td>\n",
       "      <td>0</td>\n",
       "      <td>0</td>\n",
       "      <td>0</td>\n",
       "      <td>0</td>\n",
       "      <td>0</td>\n",
       "      <td>0</td>\n",
       "      <td>0</td>\n",
       "      <td>0</td>\n",
       "      <td>0</td>\n",
       "    </tr>\n",
       "    <tr>\n",
       "      <th>3</th>\n",
       "      <td>0</td>\n",
       "      <td>0</td>\n",
       "      <td>0</td>\n",
       "      <td>0</td>\n",
       "      <td>0</td>\n",
       "      <td>0</td>\n",
       "      <td>0</td>\n",
       "      <td>0</td>\n",
       "      <td>0</td>\n",
       "      <td>0</td>\n",
       "      <td>...</td>\n",
       "      <td>0</td>\n",
       "      <td>0</td>\n",
       "      <td>0</td>\n",
       "      <td>0</td>\n",
       "      <td>0</td>\n",
       "      <td>0</td>\n",
       "      <td>0</td>\n",
       "      <td>0</td>\n",
       "      <td>0</td>\n",
       "      <td>0</td>\n",
       "    </tr>\n",
       "    <tr>\n",
       "      <th>4</th>\n",
       "      <td>0</td>\n",
       "      <td>0</td>\n",
       "      <td>0</td>\n",
       "      <td>0</td>\n",
       "      <td>0</td>\n",
       "      <td>0</td>\n",
       "      <td>0</td>\n",
       "      <td>0</td>\n",
       "      <td>0</td>\n",
       "      <td>0</td>\n",
       "      <td>...</td>\n",
       "      <td>0</td>\n",
       "      <td>0</td>\n",
       "      <td>0</td>\n",
       "      <td>0</td>\n",
       "      <td>0</td>\n",
       "      <td>0</td>\n",
       "      <td>0</td>\n",
       "      <td>0</td>\n",
       "      <td>0</td>\n",
       "      <td>0</td>\n",
       "    </tr>\n",
       "  </tbody>\n",
       "</table>\n",
       "<p>5 rows × 785 columns</p>\n",
       "</div>"
      ],
      "text/plain": [
       "   0  0.1  0.2  0.3  0.4  0.5  0.6  0.7  0.8  0.9  ...  0.639  0.640  0.641  \\\n",
       "0  0    0    0    0    0    0    0    0    0    0  ...      0      0      0   \n",
       "1  0    0    0    0    0    0    0    0    0    0  ...      0      0      0   \n",
       "2  0    0    0    0    0    0    0    0    0    0  ...      0      0      0   \n",
       "3  0    0    0    0    0    0    0    0    0    0  ...      0      0      0   \n",
       "4  0    0    0    0    0    0    0    0    0    0  ...      0      0      0   \n",
       "\n",
       "   0.642  0.643  0.644  0.645  0.646  0.647  0.648  \n",
       "0      0      0      0      0      0      0      0  \n",
       "1      0      0      0      0      0      0      0  \n",
       "2      0      0      0      0      0      0      0  \n",
       "3      0      0      0      0      0      0      0  \n",
       "4      0      0      0      0      0      0      0  \n",
       "\n",
       "[5 rows x 785 columns]"
      ]
     },
     "execution_count": 2,
     "metadata": {},
     "output_type": "execute_result"
    }
   ],
   "source": [
    "df = pd.read_csv(\"C:/Users/hp/Downloads/A_Z Handwritten Data/A_Z Handwritten Data.csv\")\n",
    "df.head()"
   ]
  },
  {
   "cell_type": "code",
   "execution_count": 3,
   "id": "076e0340-e542-42a2-bd4a-73aad354efac",
   "metadata": {},
   "outputs": [],
   "source": [
    "X = df.drop('0', axis=1)\n",
    "\n",
    "y = df['0']\n"
   ]
  },
  {
   "cell_type": "code",
   "execution_count": 4,
   "id": "e0399900-27f6-4824-a0f6-6d728ea38042",
   "metadata": {},
   "outputs": [
    {
     "name": "stdout",
     "output_type": "stream",
     "text": [
      "0\n",
      "O    57825\n",
      "S    48419\n",
      "U    29008\n",
      "C    23409\n",
      "T    22495\n",
      "P    19341\n",
      "N    19010\n",
      "A    13869\n",
      "M    12336\n",
      "L    11586\n",
      "R    11566\n",
      "E    11440\n",
      "Y    10859\n",
      "W    10784\n",
      "D    10134\n",
      "B     8668\n",
      "J     8493\n",
      "H     7218\n",
      "X     6272\n",
      "Z     6076\n",
      "Q     5812\n",
      "G     5762\n",
      "K     5603\n",
      "V     4182\n",
      "F     1163\n",
      "I     1120\n",
      "Name: count, dtype: int64\n"
     ]
    }
   ],
   "source": [
    "import string\n",
    "label_map = {i: char for i, char in enumerate(string.ascii_uppercase)}\n",
    "y_mapped = y.map(label_map)\n",
    "\n",
    "print(y_mapped.value_counts())  \n"
   ]
  },
  {
   "cell_type": "code",
   "execution_count": 5,
   "id": "fe904a7c-0006-4c81-b013-d015722299ce",
   "metadata": {},
   "outputs": [
    {
     "data": {
      "image/png": "[encoded data removed]",
      "text/plain": [
       "<Figure size 640x480 with 1 Axes>"
      ]
     },
     "metadata": {},
     "output_type": "display_data"
    },
    {
     "data": {
      "image/png": "[encoded data removed]",
      "text/plain": [
       "<Figure size 640x480 with 1 Axes>"
      ]
     },
     "metadata": {},
     "output_type": "display_data"
    },
    {
     "data": {
      "image/png": "[encoded data removed]",
      "text/plain": [
       "<Figure size 640x480 with 1 Axes>"
      ]
     },
     "metadata": {},
     "output_type": "display_data"
    },
    {
     "data": {
      "image/png": "[encoded data removed]",
      "text/plain": [
       "<Figure size 640x480 with 1 Axes>"
      ]
     },
     "metadata": {},
     "output_type": "display_data"
    },
    {
     "data": {
      "image/png": "[encoded data removed]",
      "text/plain": [
       "<Figure size 640x480 with 1 Axes>"
      ]
     },
     "metadata": {},
     "output_type": "display_data"
    }
   ],
   "source": [
    "import matplotlib.pyplot as plt\n",
    "import numpy as np\n",
    "\n",
    "for i in range(5):\n",
    "    img = np.array(X.iloc[i]).reshape(28, 28)\n",
    "    plt.imshow(img, cmap='gray')\n",
    "    plt.title(f\"L: {label_map[y.iloc[i]]}\")\n",
    "    plt.axis('off')\n",
    "    plt.show()\n"
   ]
  },
  {
   "cell_type": "code",
   "execution_count": 6,
   "id": "5ab1efd8-407b-4c78-a99c-f415d27330f5",
   "metadata": {},
   "outputs": [
    {
     "name": "stdout",
     "output_type": "stream",
     "text": [
      "Training samples: 297960\n",
      "Test samples: 74490\n"
     ]
    }
   ],
   "source": [
    "import numpy as np\n",
    "from sklearn.model_selection import train_test_split\n",
    "from tensorflow.keras.utils import to_categorical\n",
    "\n",
    "\n",
    "X_np = X.values.astype('float32') / 255.0  \n",
    "\n",
    "X_np = X_np.reshape(-1, 28, 28, 1) \n",
    "\n",
    "y_cat = to_categorical(y, num_classes=26)\n",
    "\n",
    "X_train, X_test, y_train, y_test = train_test_split(X_np, y_cat, test_size=0.2, random_state=42)\n",
    "\n",
    "print(f\"Training samples: {X_train.shape[0]}\")\n",
    "print(f\"Test samples: {X_test.shape[0]}\")\n"
   ]
  },
  {
   "cell_type": "code",
   "execution_count": 7,
   "id": "01aacf93-de1c-4c43-89c0-264f39deb472",
   "metadata": {},
   "outputs": [],
   "source": [
    "from tensorflow.keras.models import Sequential\n",
    "from tensorflow.keras.layers import Conv2D, MaxPooling2D, Flatten, Dense, Dropout\n"
   ]
  },
  {
   "cell_type": "code",
   "execution_count": 8,
   "id": "45645efb-3fa3-4903-bc20-69e446b4973f",
   "metadata": {},
   "outputs": [
    {
     "name": "stdout",
     "output_type": "stream",
     "text": [
      "Model: \"sequential\"\n",
      "_________________________________________________________________\n",
      " Layer (type)                Output Shape              Param #   \n",
      "=================================================================\n",
      " conv2d (Conv2D)             (None, 26, 26, 32)        320       \n",
      "                                                                 \n",
      " max_pooling2d (MaxPooling2  (None, 13, 13, 32)        0         \n",
      " D)                                                              \n",
      "                                                                 \n",
      " conv2d_1 (Conv2D)           (None, 11, 11, 64)        18496     \n",
      "                                                                 \n",
      " max_pooling2d_1 (MaxPoolin  (None, 5, 5, 64)          0         \n",
      " g2D)                                                            \n",
      "                                                                 \n",
      " flatten (Flatten)           (None, 1600)              0         \n",
      "                                                                 \n",
      " dense (Dense)               (None, 128)               204928    \n",
      "                                                                 \n",
      " dropout (Dropout)           (None, 128)               0         \n",
      "                                                                 \n",
      " dense_1 (Dense)             (None, 26)                3354      \n",
      "                                                                 \n",
      "=================================================================\n",
      "Total params: 227098 (887.10 KB)\n",
      "Trainable params: 227098 (887.10 KB)\n",
      "Non-trainable params: 0 (0.00 Byte)\n",
      "_________________________________________________________________\n"
     ]
    }
   ],
   "source": [
    "model = Sequential()\n",
    "\n",
    "\n",
    "model.add(Conv2D(32, kernel_size=(3,3), activation='relu', input_shape=(28, 28, 1)))\n",
    "model.add(MaxPooling2D(pool_size=(2,2)))\n",
    "model.add(Conv2D(64, kernel_size=(3,3), activation='relu'))\n",
    "model.add(MaxPooling2D(pool_size=(2,2)))\n",
    "\n",
    "\n",
    "model.add(Flatten())\n",
    "model.add(Dense(128, activation='relu'))\n",
    "model.add(Dropout(0.5))  \n",
    "model.add(Dense(26, activation='softmax'))  \n",
    "\n",
    "\n",
    "model.summary()\n"
   ]
  },
  {
   "cell_type": "code",
   "execution_count": 9,
   "id": "f699dada-fdf8-458c-ae45-e69ed1135224",
   "metadata": {},
   "outputs": [],
   "source": [
    "model.compile(\n",
    "    optimizer='adam',\n",
    "    loss='categorical_crossentropy',\n",
    "    metrics=['accuracy']\n",
    ")\n"
   ]
  },
  {
   "cell_type": "code",
   "execution_count": 10,
   "id": "e94366e2-0180-40be-91ed-e3fbebef720e",
   "metadata": {},
   "outputs": [
    {
     "name": "stdout",
     "output_type": "stream",
     "text": [
      "Epoch 1/10\n",
      "1863/1863 [==============================] - 223s 117ms/step - loss: 0.3573 - accuracy: 0.8984 - val_loss: 0.0869 - val_accuracy: 0.9759\n",
      "Epoch 2/10\n",
      "1863/1863 [==============================] - 206s 110ms/step - loss: 0.1444 - accuracy: 0.9595 - val_loss: 0.0687 - val_accuracy: 0.9807\n",
      "Epoch 3/10\n",
      "1863/1863 [==============================] - 207s 111ms/step - loss: 0.1119 - accuracy: 0.9690 - val_loss: 0.0575 - val_accuracy: 0.9841\n",
      "Epoch 4/10\n",
      "1863/1863 [==============================] - 205s 110ms/step - loss: 0.0910 - accuracy: 0.9744 - val_loss: 0.0528 - val_accuracy: 0.9853\n",
      "Epoch 5/10\n",
      "1863/1863 [==============================] - 216s 116ms/step - loss: 0.0796 - accuracy: 0.9776 - val_loss: 0.0460 - val_accuracy: 0.9879\n",
      "Epoch 6/10\n",
      "1863/1863 [==============================] - 204s 110ms/step - loss: 0.0706 - accuracy: 0.9801 - val_loss: 0.0453 - val_accuracy: 0.9882\n",
      "Epoch 7/10\n",
      "1863/1863 [==============================] - 205s 110ms/step - loss: 0.0629 - accuracy: 0.9818 - val_loss: 0.0428 - val_accuracy: 0.9880\n",
      "Epoch 8/10\n",
      "1863/1863 [==============================] - 205s 110ms/step - loss: 0.0574 - accuracy: 0.9831 - val_loss: 0.0419 - val_accuracy: 0.9897\n",
      "Epoch 9/10\n",
      "1863/1863 [==============================] - 206s 110ms/step - loss: 0.0533 - accuracy: 0.9842 - val_loss: 0.0398 - val_accuracy: 0.9897\n",
      "Epoch 10/10\n",
      "1863/1863 [==============================] - 216s 116ms/step - loss: 0.0496 - accuracy: 0.9852 - val_loss: 0.0374 - val_accuracy: 0.9908\n"
     ]
    }
   ],
   "source": [
    "history = model.fit(\n",
    "    X_train, y_train,\n",
    "    epochs=10,\n",
    "    batch_size=128,\n",
    "    validation_split=0.2, \n",
    "    verbose=1\n",
    ")\n"
   ]
  },
  {
   "cell_type": "code",
   "execution_count": 11,
   "id": "acb3bd84-bcaa-4150-bf83-15e02008c954",
   "metadata": {},
   "outputs": [
    {
     "name": "stdout",
     "output_type": "stream",
     "text": [
      "2328/2328 [==============================] - 25s 11ms/step - loss: 0.0371 - accuracy: 0.9913\n",
      "\n",
      "✅ Test accuracy: 99.13%\n",
      "🧪 Test loss: 0.0371\n"
     ]
    }
   ],
   "source": [
    "test_loss, test_acc = model.evaluate(X_test, y_test, verbose=1)\n",
    "print(f\"\\n✅ Test accuracy: {test_acc * 100:.2f}%\")\n",
    "print(f\"🧪 Test loss: {test_loss:.4f}\")\n"
   ]
  },
  {
   "cell_type": "code",
   "execution_count": 13,
   "id": "e9d1c938-d3fc-4227-ae29-b96324574c14",
   "metadata": {},
   "outputs": [
    {
     "name": "stdout",
     "output_type": "stream",
     "text": [
      "Epoch 1/10\n",
      "9312/9312 [==============================] - 321s 34ms/step - loss: 0.0717 - accuracy: 0.9791 - val_loss: 0.0451 - val_accuracy: 0.9890\n",
      "Epoch 2/10\n",
      "9312/9312 [==============================] - 327s 35ms/step - loss: 0.0636 - accuracy: 0.9816 - val_loss: 0.0389 - val_accuracy: 0.9900\n",
      "Epoch 3/10\n",
      "9312/9312 [==============================] - 319s 34ms/step - loss: 0.0574 - accuracy: 0.9832 - val_loss: 0.0421 - val_accuracy: 0.9903\n",
      "Epoch 4/10\n",
      "9312/9312 [==============================] - 320s 34ms/step - loss: 0.0544 - accuracy: 0.9841 - val_loss: 0.0379 - val_accuracy: 0.9905\n",
      "Epoch 5/10\n",
      "9312/9312 [==============================] - 326s 35ms/step - loss: 0.0507 - accuracy: 0.9850 - val_loss: 0.0375 - val_accuracy: 0.9911\n",
      "Epoch 6/10\n",
      "9312/9312 [==============================] - 321s 34ms/step - loss: 0.0476 - accuracy: 0.9857 - val_loss: 0.0411 - val_accuracy: 0.9899\n",
      "Epoch 7/10\n",
      "9312/9312 [==============================] - 323s 35ms/step - loss: 0.0464 - accuracy: 0.9862 - val_loss: 0.0368 - val_accuracy: 0.9916\n",
      "Epoch 8/10\n",
      "9312/9312 [==============================] - 325s 35ms/step - loss: 0.0432 - accuracy: 0.9871 - val_loss: 0.0336 - val_accuracy: 0.9925\n",
      "Epoch 9/10\n",
      "9312/9312 [==============================] - 333s 36ms/step - loss: 0.0426 - accuracy: 0.9872 - val_loss: 0.0371 - val_accuracy: 0.9920\n",
      "Epoch 10/10\n",
      "9312/9312 [==============================] - 267s 29ms/step - loss: 0.0414 - accuracy: 0.9876 - val_loss: 0.0312 - val_accuracy: 0.9926\n"
     ]
    }
   ],
   "source": [
    "history = model.fit(\n",
    "    X_train, y_train,\n",
    "    epochs=10,\n",
    "    validation_data=(X_test, y_test)\n",
    ")\n"
   ]
  },
  {
   "cell_type": "code",
   "execution_count": 14,
   "id": "77b8605e-a9e4-40cc-84d7-5ba19104c266",
   "metadata": {},
   "outputs": [
    {
     "data": {
      "image/png": "[encoded data removed]",
      "text/plain": [
       "<Figure size 1200x500 with 2 Axes>"
      ]
     },
     "metadata": {},
     "output_type": "display_data"
    }
   ],
   "source": [
    "import matplotlib.pyplot as plt\n",
    "\n",
    "\n",
    "plt.figure(figsize=(12, 5))\n",
    "\n",
    "plt.subplot(1, 2, 1)\n",
    "plt.plot(history.history['accuracy'], label='Training Accuracy')\n",
    "plt.plot(history.history['val_accuracy'], label='Validation Accuracy')\n",
    "plt.title('Accuracy Over Epochs')\n",
    "plt.xlabel('Epoch')\n",
    "plt.ylabel('Accuracy')\n",
    "plt.legend()\n",
    "plt.grid(True)\n",
    "\n",
    "plt.subplot(1, 2, 2)\n",
    "plt.plot(history.history['loss'], label='Training Loss')\n",
    "plt.plot(history.history['val_loss'], label='Validation Loss')\n",
    "plt.title('Loss Over Epochs')\n",
    "plt.xlabel('Epoch')\n",
    "plt.ylabel('Loss')\n",
    "plt.legend()\n",
    "plt.grid(True)\n",
    "\n",
    "plt.tight_layout()\n",
    "plt.show()\n"
   ]
  },
  {
   "cell_type": "code",
   "execution_count": 19,
   "id": "07d0be7d-c8cc-447d-b888-ff9904ca9c64",
   "metadata": {},
   "outputs": [],
   "source": [
    "model.save(\"model_handwriting.keras\")\n",
    "\n"
   ]
  },
  {
   "cell_type": "code",
   "execution_count": 20,
   "id": "deb5bf48-aef3-45de-8eaf-b0aee7f17a26",
   "metadata": {},
   "outputs": [],
   "source": [
    "model = tf.keras.models.load_model(\"model_handwriting.keras\")\n"
   ]
  },
  {
   "cell_type": "code",
   "execution_count": 1,
   "id": "1f6870f3-4f30-4141-a775-65a39e9a177b",
   "metadata": {},
   "outputs": [],
   "source": [
    "import tkinter as tk\n",
    "from PIL import Image, ImageDraw, ImageOps\n",
    "import numpy as np\n",
    "import tensorflow as tf"
   ]
  },
  {
   "cell_type": "code",
   "execution_count": 6,
   "id": "235afce3-96ce-4ebb-978f-0c2174dea41c",
   "metadata": {},
   "outputs": [],
   "source": [
    "model = tf.keras.models.load_model(\"model_handwriting.h5\")\n",
    "\n",
    "\n",
    "class DrawingApp:\n",
    "    def __init__(self, root):\n",
    "        self.root = root\n",
    "        self.root.title(\"Draw and recognize a letter\")\n",
    "        \n",
    "        self.canvas = tk.Canvas(self.root, width=280, height=280, bg='white')\n",
    "        self.canvas.pack()\n",
    "        \n",
    "        self.image = Image.new(\"L\", (280, 280), 255) \n",
    "        self.draw = ImageDraw.Draw(self.image)\n",
    "\n",
    "        self.canvas.bind(\"<B1-Motion>\", self.paint)\n",
    "        \n",
    "        tk.Button(self.root, text=\"Predict the letter\", command=self.predict).pack()\n",
    "        tk.Button(self.root, text=\"Delete\", command=self.clear).pack()\n",
    "\n",
    "        self.label = tk.Label(self.root, text=\"\", font=(\"Helvetica\", 24))\n",
    "        self.label.pack()\n",
    "\n",
    "    def paint(self, event):\n",
    "        x1, y1 = (event.x - 8), (event.y - 8)\n",
    "        x2, y2 = (event.x + 8), (event.y + 8)\n",
    "        self.canvas.create_oval(x1, y1, x2, y2, fill='black')\n",
    "        self.draw.ellipse([x1, y1, x2, y2], fill=0)\n",
    "\n",
    "    def clear(self):\n",
    "        self.canvas.delete(\"all\")\n",
    "        self.draw.rectangle([0, 0, 280, 280], fill=255)\n",
    "        self.label.config(text=\"\")\n",
    "\n",
    "    def predict(self):\n",
    "      \n",
    "        img = self.image.resize((28, 28))\n",
    "        img = ImageOps.invert(img)\n",
    "        img_np = np.array(img).astype(\"float32\") / 255.0\n",
    "        img_np = img_np.reshape(1, 28, 28, 1)\n",
    "\n",
    "        prediction = model.predict(img_np)\n",
    "        predicted_class = np.argmax(prediction)\n",
    "\n",
    "        predicted_letter = chr(predicted_class + 65)  # A-Z\n",
    "        self.label.config(text=f\"predicted letter: {predicted_letter}\")\n"
   ]
  },
  {
   "cell_type": "code",
   "execution_count": 8,
   "id": "cd03355e-31c1-4c7e-9176-966822b7d7b9",
   "metadata": {},
   "outputs": [
    {
     "name": "stdout",
     "output_type": "stream",
     "text": [
      "1/1 [==============================] - 0s 25ms/step\n",
      "1/1 [==============================] - 0s 28ms/step\n",
      "1/1 [==============================] - 0s 30ms/step\n"
     ]
    }
   ],
   "source": [
    "\n",
    "root = tk.Tk()\n",
    "app = DrawingApp(root)\n",
    "root.mainloop()"
   ]
  },
  {
   "cell_type": "code",
   "execution_count": null,
   "id": "d2e2fd25-7da7-4b26-a732-be79d5543c8b",
   "metadata": {},
   "outputs": [],
   "source": []
  }
 ],
 "metadata": {
  "kernelspec": {
   "display_name": "Python 3 (ipykernel)",
   "language": "python",
   "name": "python3"
  },
  "language_info": {
   "codemirror_mode": {
    "name": "ipython",
    "version": 3
   },
   "file_extension": ".py",
   "mimetype": "text/x-python",
   "name": "python",
   "nbconvert_exporter": "python",
   "pygments_lexer": "ipython3",
   "version": "3.8.10"
  }
 },
 "nbformat": 4,
 "nbformat_minor": 5
}
